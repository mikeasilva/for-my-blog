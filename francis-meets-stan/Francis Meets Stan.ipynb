{
 "cells": [
  {
   "cell_type": "markdown",
   "metadata": {
    "deletable": true,
    "editable": true
   },
   "source": [
    "# Francis Meets Stan\n",
    "\n",
    "In order to try out Stan I decided to run a linear regression on Fancis Galton's child and parent height data. "
   ]
  },
  {
   "cell_type": "code",
   "execution_count": 1,
   "metadata": {
    "collapsed": true,
    "deletable": true,
    "editable": true
   },
   "outputs": [],
   "source": [
    "# Import the libraries we need for this analysis\n",
    "import pandas as pd\n",
    "import pystan\n",
    "from statsmodels.formula.api import ols"
   ]
  },
  {
   "cell_type": "markdown",
   "metadata": {
    "deletable": true,
    "editable": true
   },
   "source": [
    "The Galton data set came from the R HistData package.  I exported the data as a CSV without making any changes to it.  It will be the data used in this anlysis."
   ]
  },
  {
   "cell_type": "code",
   "execution_count": 2,
   "metadata": {
    "collapsed": true,
    "deletable": true,
    "editable": true
   },
   "outputs": [],
   "source": [
    "# Read in the Galton dataset\n",
    "df = pd.read_csv('Galton.csv')"
   ]
  },
  {
   "cell_type": "markdown",
   "metadata": {
    "deletable": true,
    "editable": true
   },
   "source": [
    "To have something to compare against I am using StatsModels OLS regression function on the data:"
   ]
  },
  {
   "cell_type": "code",
   "execution_count": 3,
   "metadata": {
    "collapsed": false,
    "deletable": true,
    "editable": true
   },
   "outputs": [
    {
     "name": "stdout",
     "output_type": "stream",
     "text": [
      "                            OLS Regression Results                            \n",
      "==============================================================================\n",
      "Dep. Variable:                  child   R-squared:                       0.210\n",
      "Model:                            OLS   Adj. R-squared:                  0.210\n",
      "Method:                 Least Squares   F-statistic:                     246.8\n",
      "Date:                Mon, 27 Mar 2017   Prob (F-statistic):           1.73e-49\n",
      "Time:                        11:09:52   Log-Likelihood:                -2063.6\n",
      "No. Observations:                 928   AIC:                             4131.\n",
      "Df Residuals:                     926   BIC:                             4141.\n",
      "Df Model:                           1                                         \n",
      "Covariance Type:            nonrobust                                         \n",
      "==============================================================================\n",
      "                 coef    std err          t      P>|t|      [0.025      0.975]\n",
      "------------------------------------------------------------------------------\n",
      "Intercept     23.9415      2.811      8.517      0.000      18.425      29.458\n",
      "parent         0.6463      0.041     15.711      0.000       0.566       0.727\n",
      "==============================================================================\n",
      "Omnibus:                       11.057   Durbin-Watson:                   0.046\n",
      "Prob(Omnibus):                  0.004   Jarque-Bera (JB):               10.944\n",
      "Skew:                          -0.241   Prob(JB):                      0.00420\n",
      "Kurtosis:                       2.775   Cond. No.                     2.61e+03\n",
      "==============================================================================\n",
      "\n",
      "Warnings:\n",
      "[1] Standard Errors assume that the covariance matrix of the errors is correctly specified.\n",
      "[2] The condition number is large, 2.61e+03. This might indicate that there are\n",
      "strong multicollinearity or other numerical problems.\n"
     ]
    }
   ],
   "source": [
    "# Do a linear regression using OLS\n",
    "ols_model = ols(\"child ~ parent\", df).fit()\n",
    "\n",
    "# Print the summary\n",
    "print(ols_model.summary())"
   ]
  },
  {
   "cell_type": "markdown",
   "metadata": {
    "deletable": true,
    "editable": true
   },
   "source": [
    "Now we will do the same thing with Stan:"
   ]
  },
  {
   "cell_type": "code",
   "execution_count": 4,
   "metadata": {
    "collapsed": false,
    "deletable": true,
    "editable": true
   },
   "outputs": [
    {
     "name": "stderr",
     "output_type": "stream",
     "text": [
      "INFO:pystan:COMPILING THE C++ CODE FOR MODEL galton_2a77bd156aec196d5a464494a175b11a NOW.\n"
     ]
    },
    {
     "name": "stdout",
     "output_type": "stream",
     "text": [
      "Inference for Stan model: galton_2a77bd156aec196d5a464494a175b11a.\n",
      "4 chains, each with iter=1000; warmup=500; thin=1; \n",
      "post-warmup draws per chain=500, total post-warmup draws=2000.\n",
      "\n",
      "        mean se_mean     sd   2.5%    25%    50%    75%  97.5%  n_eff   Rhat\n",
      "alpha  24.24    0.11   2.67   18.9  22.45   24.2  26.17  29.37    607   1.01\n",
      "beta    0.64  1.6e-3   0.04   0.57   0.61   0.64   0.67   0.72    606   1.01\n",
      "sigma   2.24  1.9e-3   0.05   2.14   2.21   2.24   2.27   2.35    732    1.0\n",
      "lp__   -1211    0.05   1.19  -1214  -1212  -1211  -1210  -1210    643    1.0\n",
      "\n",
      "Samples were drawn using NUTS at Mon Mar 27 11:11:15 2017.\n",
      "For each parameter, n_eff is a crude measure of effective sample size,\n",
      "and Rhat is the potential scale reduction factor on split chains (at \n",
      "convergence, Rhat=1).\n"
     ]
    }
   ],
   "source": [
    "# Run the training data through Stan\n",
    "stan_model_code = \"\"\"\n",
    "data {\n",
    "    int<lower=0> N; // number of cases\n",
    "    vector[N] x; // predictor (covariate)\n",
    "    vector[N] y; // outcome (variate)\n",
    "}\n",
    "parameters {\n",
    "    real alpha; // intercept\n",
    "    real beta; // slope\n",
    "    real<lower=0> sigma; // outcome noise\n",
    "}\n",
    "model {\n",
    "    y ~ normal(x * beta + alpha, sigma);\n",
    "}\n",
    "\"\"\"\n",
    "\n",
    "stan_data = {\n",
    "        'N': len(df['child'].values),\n",
    "        'x': df['parent'].values,\n",
    "        'y': df['child'].values\n",
    "        }\n",
    "\n",
    "stan_model = pystan.stan(model_name='galton', model_code=stan_model_code, data=stan_data, iter=1000, chains=4)\n",
    "\n",
    "print(stan_model)"
   ]
  }
 ],
 "metadata": {
  "kernelspec": {
   "display_name": "Python 3",
   "language": "python",
   "name": "python3"
  },
  "language_info": {
   "codemirror_mode": {
    "name": "ipython",
    "version": 3
   },
   "file_extension": ".py",
   "mimetype": "text/x-python",
   "name": "python",
   "nbconvert_exporter": "python",
   "pygments_lexer": "ipython3",
   "version": "3.6.1"
  }
 },
 "nbformat": 4,
 "nbformat_minor": 2
}
